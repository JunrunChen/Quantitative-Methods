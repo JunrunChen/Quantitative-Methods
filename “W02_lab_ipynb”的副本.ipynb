{
  "cells": [
    {
      "cell_type": "markdown",
      "metadata": {
        "id": "view-in-github",
        "colab_type": "text"
      },
      "source": [
        "<a href=\"https://colab.research.google.com/github/JunrunChen/Quantitative-Methods/blob/main/%E2%80%9CW02_lab_ipynb%E2%80%9D%E7%9A%84%E5%89%AF%E6%9C%AC.ipynb\" target=\"_parent\"><img src=\"https://colab.research.google.com/assets/colab-badge.svg\" alt=\"Open In Colab\"/></a>"
      ]
    },
    {
      "cell_type": "markdown",
      "metadata": {
        "id": "arGlYsWXFuZ7"
      },
      "source": [
        "# Week 2 Lab\n",
        "\n",
        "**Datasets**:\n",
        "\n",
        "The following datasets are used in this lab.\n",
        "\n",
        "- [nyc_subway_stations.tsv](https://open.gishub.org/data/duckdb/nyc_subway_stations.tsv)\n",
        "- [nyc_neighborhoods.tsv](https://open.gishub.org/data/duckdb/nyc_neighborhoods.tsv)"
      ],
      "id": "arGlYsWXFuZ7"
    },
    {
      "cell_type": "code",
      "execution_count": null,
      "metadata": {
        "id": "zLVxk2_XFuZ8"
      },
      "outputs": [],
      "source": [
        "# %pip install duckdb duckdb-engine jupysql"
      ],
      "id": "zLVxk2_XFuZ8"
    },
    {
      "cell_type": "code",
      "execution_count": null,
      "metadata": {
        "id": "ScLSxfE6FuZ9"
      },
      "outputs": [],
      "source": [
        "import duckdb\n",
        "\n",
        "%load_ext sql"
      ],
      "id": "ScLSxfE6FuZ9"
    },
    {
      "cell_type": "code",
      "execution_count": null,
      "metadata": {
        "id": "tWUu9sZeFuZ9"
      },
      "outputs": [],
      "source": [
        "%config SqlMagic.autopandas = True\n",
        "%config SqlMagic.feedback = False\n",
        "%config SqlMagic.displaycon = False"
      ],
      "id": "tWUu9sZeFuZ9"
    },
    {
      "cell_type": "code",
      "source": [],
      "metadata": {
        "id": "jDG8iIOtF1nL"
      },
      "id": "jDG8iIOtF1nL",
      "execution_count": null,
      "outputs": []
    },
    {
      "cell_type": "markdown",
      "metadata": {
        "id": "JvKyzpNLFuZ9"
      },
      "source": [
        "## Question 1: Creating Tables\n",
        "\n",
        "Create a database, then write a SQL query to create a table named `nyc_subway_stations` and load the data from the file `nyc_subway_stations.tsv` into it. Similarly, create a table named `nyc_neighborhoods` and load the data from the file `nyc_neighborhoods.tsv` into it."
      ],
      "id": "JvKyzpNLFuZ9"
    },
    {
      "cell_type": "code",
      "execution_count": null,
      "metadata": {
        "id": "riukT3BrFuZ9"
      },
      "outputs": [],
      "source": [
        "# Add your code here."
      ],
      "id": "riukT3BrFuZ9"
    },
    {
      "cell_type": "markdown",
      "metadata": {
        "id": "2sP7kjBPFuZ9"
      },
      "source": [
        "## Question 2: Column Filtering\n",
        "\n",
        "Write a SQL query to display the `ID`, `NAME`, and `BOROUGH` of each subway station in the `nyc_subway_stations` dataset."
      ],
      "id": "2sP7kjBPFuZ9"
    },
    {
      "cell_type": "code",
      "execution_count": null,
      "metadata": {
        "id": "06aNkV7GFuZ-"
      },
      "outputs": [],
      "source": [
        "# Add your code here."
      ],
      "id": "06aNkV7GFuZ-"
    },
    {
      "cell_type": "markdown",
      "metadata": {
        "id": "CXOavQohFuZ-"
      },
      "source": [
        "## Question 3: Row Filtering\n",
        "\n",
        "Write a SQL query to find all subway stations in the `nyc_subway_stations` dataset that are located in the borough of Manhattan."
      ],
      "id": "CXOavQohFuZ-"
    },
    {
      "cell_type": "code",
      "execution_count": null,
      "metadata": {
        "id": "27ZwUsjIFuZ-"
      },
      "outputs": [],
      "source": [
        "# Add your code here."
      ],
      "id": "27ZwUsjIFuZ-"
    },
    {
      "cell_type": "markdown",
      "metadata": {
        "id": "G87Ys9DcFuZ-"
      },
      "source": [
        "## Question 4: Sorting Results\n",
        "\n",
        "Write a SQL query to list the subway stations in the `nyc_subway_stations` dataset in alphabetical order by their names."
      ],
      "id": "G87Ys9DcFuZ-"
    },
    {
      "cell_type": "code",
      "execution_count": null,
      "metadata": {
        "id": "_zht2GHmFuZ-"
      },
      "outputs": [],
      "source": [
        "# Add your code here."
      ],
      "id": "_zht2GHmFuZ-"
    },
    {
      "cell_type": "markdown",
      "metadata": {
        "id": "YmAKyIZAFuZ-"
      },
      "source": [
        "## Question 5: Unique Values\n",
        "\n",
        "Write a SQL query to find the distinct boroughs represented in the `nyc_subway_stations` dataset."
      ],
      "id": "YmAKyIZAFuZ-"
    },
    {
      "cell_type": "code",
      "execution_count": null,
      "metadata": {
        "id": "nGFWxRz4FuZ-"
      },
      "outputs": [],
      "source": [
        "# Add your code here."
      ],
      "id": "nGFWxRz4FuZ-"
    },
    {
      "cell_type": "markdown",
      "metadata": {
        "id": "zuImcLEHFuZ-"
      },
      "source": [
        "## Question 6: Counting Rows\n",
        "\n",
        "Write a SQL query to count the number of subway stations in each borough in the `nyc_subway_stations` dataset."
      ],
      "id": "zuImcLEHFuZ-"
    },
    {
      "cell_type": "code",
      "execution_count": null,
      "metadata": {
        "id": "Wc_xaNixFuZ-"
      },
      "outputs": [],
      "source": [
        "# Add your code here."
      ],
      "id": "Wc_xaNixFuZ-"
    },
    {
      "cell_type": "markdown",
      "metadata": {
        "id": "zDHgqyDeFuZ-"
      },
      "source": [
        "## Question 7: Aggregating Data\n",
        "\n",
        "Write a SQL query to list the number of subway stations in each borough, sorted in descending order by the count."
      ],
      "id": "zDHgqyDeFuZ-"
    },
    {
      "cell_type": "code",
      "execution_count": null,
      "metadata": {
        "id": "hulDQqihFuZ-"
      },
      "outputs": [],
      "source": [
        "# Add your code here."
      ],
      "id": "hulDQqihFuZ-"
    },
    {
      "cell_type": "markdown",
      "metadata": {
        "id": "Vrv870d2FuZ-"
      },
      "source": [
        "## Question 8: Joining Tables\n",
        "\n",
        "Write a SQL query to join the `nyc_subway_stations` and `nyc_neighborhoods` datasets on the borough name, displaying the subway station name and the neighborhood name."
      ],
      "id": "Vrv870d2FuZ-"
    },
    {
      "cell_type": "code",
      "execution_count": null,
      "metadata": {
        "id": "fCH3QM_FFuZ-"
      },
      "outputs": [],
      "source": [
        "# Add your code here."
      ],
      "id": "fCH3QM_FFuZ-"
    },
    {
      "cell_type": "markdown",
      "metadata": {
        "id": "37-lzLhOFuZ-"
      },
      "source": [
        "## Question 9: String Manipulation\n",
        "\n",
        "Write a SQL query to display the names of subway stations in the `nyc_subway_stations` dataset that contain the word \"St\" in their names."
      ],
      "id": "37-lzLhOFuZ-"
    },
    {
      "cell_type": "code",
      "execution_count": null,
      "metadata": {
        "id": "AC-xigyWFuZ_"
      },
      "outputs": [],
      "source": [
        "# Add your code here."
      ],
      "id": "AC-xigyWFuZ_"
    },
    {
      "cell_type": "markdown",
      "metadata": {
        "id": "covyRk7aFuZ_"
      },
      "source": [
        "## Question 10: Filtering with Multiple Conditions\n",
        "\n",
        "Write a SQL query to find all subway stations in the `nyc_subway_stations` dataset that are in the borough of Brooklyn and have routes that include the letter \"R\"."
      ],
      "id": "covyRk7aFuZ_"
    },
    {
      "cell_type": "code",
      "execution_count": null,
      "metadata": {
        "id": "cFcgqiHjFuZ_"
      },
      "outputs": [],
      "source": [
        "# Add your code here."
      ],
      "id": "cFcgqiHjFuZ_"
    }
  ],
  "metadata": {
    "kernelspec": {
      "display_name": "Python 3",
      "language": "python",
      "name": "python3"
    },
    "language_info": {
      "codemirror_mode": {
        "name": "ipython",
        "version": 3
      },
      "file_extension": ".py",
      "mimetype": "text/x-python",
      "name": "python",
      "nbconvert_exporter": "python",
      "pygments_lexer": "ipython3",
      "version": "3.9.18"
    },
    "colab": {
      "provenance": [],
      "include_colab_link": true
    }
  },
  "nbformat": 4,
  "nbformat_minor": 5
}